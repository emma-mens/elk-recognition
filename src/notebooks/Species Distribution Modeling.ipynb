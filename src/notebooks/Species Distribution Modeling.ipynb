{
 "cells": [
  {
   "cell_type": "code",
   "execution_count": null,
   "metadata": {},
   "outputs": [],
   "source": []
  },
  {
   "cell_type": "code",
   "execution_count": null,
   "metadata": {},
   "outputs": [],
   "source": [
    "# Download iNaturalist data\n"
   ]
  },
  {
   "cell_type": "code",
   "execution_count": null,
   "metadata": {},
   "outputs": [],
   "source": [
    "# https://forum.inaturalist.org/t/is-there-a-tool-code-snippet-that-allows-downloading-of-taxonomy-data-from-the-site/14268/10\n",
    "\n",
    "import urllib.request\n",
    "import urllib.error\n",
    "import json\n",
    "import csv\n",
    "import time\n",
    "\n",
    "# see https://api.inaturalist.org/v1/docs/#!/Taxa/get_taxa for more details on parameters\n",
    "# in particular, if there are more than 10,000 results, you'll need to pare it down via parameters to get everything\n",
    "taxon = 204114 # Wapiti Elk\n",
    "place_id = 46 # Washington State, USA\n",
    "# rank  = '' # use '' (empty quotes) if you don't want to specify a rank\n",
    "columns = ['location', 'observed_on_details', 'observed_time_zone', 'reviewed_by', \n",
    "           'place_ids', 'sounds', 'geojson', 'spam', 'place_guess']\n",
    "\n",
    "# by default calls only for active taxa, doesn't return all the names for each taxon, and 200 results per page\n",
    "# apiurl = 'https://api.inaturalist.org/v1/taxa?is_active=true&all_names=false&per_page=2'\n",
    "apiurl = 'https://api.inaturalist.org/v1/observations?order_by=id&order=asc&per_page=200'\n",
    "\n",
    "def call_api(id_above=0):\n",
    "    \"\"\"Call the api repeatedly until all pages have been processed.\"\"\"\n",
    "    try:\n",
    "#         response = urllib.request.urlopen(apiurl + '&page=' + str(page) + '&place_id=' + str(place_id) + \n",
    "#                                           '&taxon_id=' + str(taxon) + '&rank=' + rank)\n",
    "        response = urllib.request.urlopen(apiurl + '&place_id=' + str(place_id) + '&taxon_id=' + str(taxon)\n",
    "                                          + '&id_above' + str(id_above))\n",
    "    except urllib.error.URLError as e:\n",
    "        print(e)\n",
    "    else:\n",
    "        responsejson = json.loads(response.read().decode())\n",
    "        if id_above == 0:\n",
    "            # write header\n",
    "            csvwriter.writerow(columns)\n",
    "        for species in responsejson['results']:\n",
    "            # lots of possible data to keep, here it's name, taxon id, and observations count\n",
    "            csvwriter.writerow([species[c] for c in columns])\n",
    "        if (len(responsejson['results']) > 0):  # keep calling the API until we've gotten all the results\n",
    "            time.sleep(1)  # stay under the suggested API calls/min, not strictly necessary\n",
    "            call_api(species['id'])\n",
    "\n",
    "try:\n",
    "    with open('iNaturalist_Wapiti_Elk.csv', encoding='utf-8', mode='w+', newline='') as w:  # open a csv named for the taxon\n",
    "        csvwriter = csv.writer(w, delimiter=',', quotechar='\"', quoting=csv.QUOTE_MINIMAL)\n",
    "        call_api()\n",
    "except Exception as e:\n",
    "    print(e)"
   ]
  },
  {
   "cell_type": "code",
   "execution_count": 27,
   "metadata": {},
   "outputs": [],
   "source": [
    "columns = ['location', 'observed_on_details', 'observed_time_zone', 'reviewed_by', 'place_ids', 'sounds', 'geojson', 'spam', 'place_guess']"
   ]
  },
  {
   "cell_type": "code",
   "execution_count": 28,
   "metadata": {
    "scrolled": false
   },
   "outputs": [
    {
     "data": {
      "text/plain": [
       "['47.4763757972,-121.728515625',\n",
       " {'date': '2010-05-31',\n",
       "  'week': 22,\n",
       "  'month': 5,\n",
       "  'hour': 0,\n",
       "  'year': 2010,\n",
       "  'day': 31},\n",
       " 'America/Los_Angeles',\n",
       " [477, 710, 11060, 854537, 1234247],\n",
       " [1,\n",
       "  46,\n",
       "  1282,\n",
       "  9853,\n",
       "  50422,\n",
       "  50854,\n",
       "  53219,\n",
       "  59613,\n",
       "  65360,\n",
       "  65818,\n",
       "  66394,\n",
       "  66741,\n",
       "  67725,\n",
       "  67760,\n",
       "  91864,\n",
       "  92151,\n",
       "  92665,\n",
       "  96683,\n",
       "  97394,\n",
       "  119138,\n",
       "  120702,\n",
       "  122789,\n",
       "  122891,\n",
       "  128702,\n",
       "  128999,\n",
       "  129011,\n",
       "  133312,\n",
       "  133963,\n",
       "  155060],\n",
       " [],\n",
       " {'coordinates': [-121.728515625, 47.4763757972], 'type': 'Point'},\n",
       " False,\n",
       " 'King County, US-WA, US']"
      ]
     },
     "execution_count": 28,
     "metadata": {},
     "output_type": "execute_result"
    }
   ],
   "source": [
    "[d[0][c] for c in columns]"
   ]
  },
  {
   "cell_type": "code",
   "execution_count": 22,
   "metadata": {},
   "outputs": [
    {
     "ename": "KeyError",
     "evalue": "'total_results'",
     "output_type": "error",
     "traceback": [
      "\u001b[0;31m-----------------------------------------------------------------------\u001b[0m",
      "\u001b[0;31mKeyError\u001b[0m                              Traceback (most recent call last)",
      "\u001b[0;32m<ipython-input-22-875a5d3d515a>\u001b[0m in \u001b[0;36m<module>\u001b[0;34m\u001b[0m\n\u001b[0;32m----> 1\u001b[0;31m \u001b[0md\u001b[0m\u001b[0;34m[\u001b[0m\u001b[0;36m0\u001b[0m\u001b[0;34m]\u001b[0m\u001b[0;34m[\u001b[0m\u001b[0;34m'total_results'\u001b[0m\u001b[0;34m]\u001b[0m\u001b[0;34m\u001b[0m\u001b[0;34m\u001b[0m\u001b[0m\n\u001b[0m",
      "\u001b[0;31mKeyError\u001b[0m: 'total_results'"
     ]
    }
   ],
   "source": [
    "d[0]['total_results']"
   ]
  }
 ],
 "metadata": {
  "kernelspec": {
   "display_name": "Python 3",
   "language": "python",
   "name": "python3"
  },
  "language_info": {
   "codemirror_mode": {
    "name": "ipython",
    "version": 3
   },
   "file_extension": ".py",
   "mimetype": "text/x-python",
   "name": "python",
   "nbconvert_exporter": "python",
   "pygments_lexer": "ipython3",
   "version": "3.8.5"
  }
 },
 "nbformat": 4,
 "nbformat_minor": 4
}
