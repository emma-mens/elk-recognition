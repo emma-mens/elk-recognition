{
 "cells": [
  {
   "cell_type": "code",
   "execution_count": 3,
   "metadata": {
    "scrolled": false
   },
   "outputs": [
    {
     "name": "stdout",
     "output_type": "stream",
     "text": [
      "Collecting google_images_download\n",
      "  Downloading google_images_download-2.8.0.tar.gz (14 kB)\n",
      "Collecting selenium\n",
      "  Downloading selenium-3.141.0-py2.py3-none-any.whl (904 kB)\n",
      "\u001b[K     |████████████████████████████████| 904 kB 28.6 MB/s eta 0:00:01\n",
      "\u001b[?25hRequirement already satisfied: urllib3 in /homes/iws/emazuh/miniconda3/lib/python3.8/site-packages (from selenium->google_images_download) (1.26.2)\n",
      "Building wheels for collected packages: google-images-download\n",
      "  Building wheel for google-images-download (setup.py) ... \u001b[?25ldone\n",
      "\u001b[?25h  Created wheel for google-images-download: filename=google_images_download-2.8.0-py2.py3-none-any.whl size=14549 sha256=4969d8e726c83365876466958f7c8386af59c2c165c344d548f5b58ef900a981\n",
      "  Stored in directory: /homes/iws/emazuh/.cache/pip/wheels/09/09/00/7a4b1a816f726438cb51067db23c7f9efedf009b6a1bfa027a\n",
      "Successfully built google-images-download\n",
      "Installing collected packages: selenium, google-images-download\n",
      "Successfully installed google-images-download-2.8.0 selenium-3.141.0\n"
     ]
    }
   ],
   "source": [
    "!pip install google_images_download"
   ]
  },
  {
   "cell_type": "markdown",
   "metadata": {},
   "source": [
    "I ended up using this command line option for downloading images on my mac after installing `chromedriver` https://github.com/hardikvasa/google-images-download/issues/301#issuecomment-611728570\n",
    "\n",
    "```\n",
    "git clone https://github.com/ultralytics/google-images-download\n",
    "cd google-images-download\n",
    "# Downloaded chromedriver_mac64_m1.zip at https://chromedriver.storage.googleapis.com/index.html?path=91.0.4472.101/ and copied to google-images-download folder on my M1 chip mac\n",
    "\n",
    "PATH_CHROME_DRIVER=./chromedriver\n",
    "for x in 'elk'\n",
    "do\n",
    "  python3 bing_scraper.py --search $x --limit 10000 --download --chromedriver $PATH_CHROME_DRIVER\n",
    "done\n",
    "```\n",
    "\n",
    "However, the bing search came up with a lot of false hits (eg. a picture of a school in Elkgrove) so I manually removed some of them. The download got 975/10000 hits and after clean up ended up with 819 images. I moved forward to setup other parts of the recognition pipeline with the intention to find more and higher quality images later (as I would for all other parts of the pipeline after the first pass through)"
   ]
  },
  {
   "cell_type": "markdown",
   "metadata": {},
   "source": [
    "Hard negative mining ideas:\n",
    "- Tree branches that look like antlers\n",
    "- Cattle/other animals that look like elks\n",
    "- "
   ]
  },
  {
   "cell_type": "code",
   "execution_count": 12,
   "metadata": {},
   "outputs": [],
   "source": [
    "# https://www.geeksforgeeks.org/how-to-download-google-images-using-python/\n",
    "\n",
    "# importing google_images_download module\n",
    "from google_images_download import google_images_download\n",
    "\n",
    "# creating object\n",
    "response = google_images_download.googleimagesdownload()\n",
    "\n",
    "\n",
    "def downloadimages(query):\n",
    "    # keywords is the search query\n",
    "    # format is the image file format\n",
    "    # limit is the number of images to be downloaded\n",
    "    # print urs is to print the image file url\n",
    "    # size is the image size which can\n",
    "    # be specified manually (\"large, medium, icon\")\n",
    "    # aspect ratio denotes the height width ratio\n",
    "    # of images to download. (\"tall, square, wide, panoramic\")\n",
    "    arguments = {\"keywords\": query,\n",
    "                \"format\": \"jpg\",\n",
    "                \"limit\": 4,\n",
    "                \"print_urls\":True,\n",
    "                \"size\": \"medium\",\n",
    "                \"aspect_ratio\":\"panoramic\"}\n",
    "    try:\n",
    "        response.download(arguments)\n",
    "        print('done')\n",
    "\n",
    "    # Handling File NotFound Error\n",
    "    except FileNotFoundError:\n",
    "        arguments = {\"keywords\": query,\n",
    "                    \"format\": \"jpg\",\n",
    "                    \"limit\":4,\n",
    "                    \"print_urls\":True,\n",
    "                    \"size\": \"medium\"}\n",
    "\n",
    "        # Providing arguments for the searched query\n",
    "        try:\n",
    "            # Downloading the photos based\n",
    "            # on the given arguments\n",
    "            response.download(arguments)\n",
    "        except:\n",
    "            pass"
   ]
  },
  {
   "cell_type": "code",
   "execution_count": 14,
   "metadata": {},
   "outputs": [
    {
     "name": "stdout",
     "output_type": "stream",
     "text": [
      "\n",
      "Item no.: 1 --> Item name = elk\n",
      "Evaluating...\n",
      "Starting Download...\n",
      "\n",
      "\n",
      "Unfortunately all 4 could not be downloaded because some images were not downloadable. 0 is all we got for this search filter!\n",
      "\n",
      "Errors: 0\n",
      "\n",
      "done\n",
      "\n"
     ]
    }
   ],
   "source": [
    "search_queries = ['elk']\n",
    "\n",
    "# Driver Code\n",
    "for query in search_queries:\n",
    "    downloadimages(query)\n",
    "    print()"
   ]
  }
 ],
 "metadata": {
  "kernelspec": {
   "display_name": "Python 3",
   "language": "python",
   "name": "python3"
  },
  "language_info": {
   "codemirror_mode": {
    "name": "ipython",
    "version": 3
   },
   "file_extension": ".py",
   "mimetype": "text/x-python",
   "name": "python",
   "nbconvert_exporter": "python",
   "pygments_lexer": "ipython3",
   "version": "3.8.5"
  }
 },
 "nbformat": 4,
 "nbformat_minor": 4
}
