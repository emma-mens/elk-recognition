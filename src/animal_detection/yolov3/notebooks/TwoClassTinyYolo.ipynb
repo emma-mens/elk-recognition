{
 "cells": [
  {
   "cell_type": "code",
   "execution_count": 1,
   "metadata": {},
   "outputs": [],
   "source": [
    "%load_ext autoreload\n",
    "%autoreload 2"
   ]
  },
  {
   "cell_type": "code",
   "execution_count": 2,
   "metadata": {},
   "outputs": [],
   "source": [
    "import sys\n",
    "YOLOV3_HOME = '/local1/emazuh/elk-recognition/src/animal_detection/yolov3'\n",
    "sys.path.append(YOLOV3_HOME)\n",
    "LABELING_TOOL_HOME = '/local1/emazuh/elk-recognition/src/animal_detection/labelling_tool'\n",
    "sys.path.append(LABELING_TOOL_HOME)\n",
    "sys.path.append('/homes/iws/emazuh/miniconda3/lib/python3.8/site-packages/torch')\n",
    "\n",
    "import torch\n",
    "import torch.nn as nn\n",
    "import numpy as np\n",
    "from yolov3_models import Darknet\n",
    "from yolov3_utils.utils import non_max_suppression, torch_utils, load_classes\n",
    "from yolov3_utils.parse_config import parse_data_cfg\n",
    "from tracking.Utilities import drawBox, cv2\n",
    "from PIL import Image as im"
   ]
  },
  {
   "cell_type": "code",
   "execution_count": 39,
   "metadata": {},
   "outputs": [
    {
     "name": "stdout",
     "output_type": "stream",
     "text": [
      "Using CUDA device0 _CudaDeviceProperties(name='NVIDIA GeForce GTX 1080 Ti', total_memory=11178MB)\n",
      "           device1 _CudaDeviceProperties(name='NVIDIA GeForce GTX 1080 Ti', total_memory=11178MB)\n",
      "\n"
     ]
    },
    {
     "data": {
      "text/plain": [
       "Darknet(\n",
       "  (module_list): ModuleList(\n",
       "    (0): Sequential(\n",
       "      (conv_0): Conv2d(3, 16, kernel_size=(3, 3), stride=(1, 1), padding=(1, 1), bias=False)\n",
       "      (batch_norm_0): BatchNorm2d(16, eps=1e-05, momentum=0.1, affine=True, track_running_stats=True)\n",
       "      (leaky_0): LeakyReLU(negative_slope=0.1, inplace=True)\n",
       "    )\n",
       "    (1): Sequential(\n",
       "      (maxpool_1): MaxPool2d(kernel_size=2, stride=2, padding=0, dilation=1, ceil_mode=False)\n",
       "    )\n",
       "    (2): Sequential(\n",
       "      (conv_2): Conv2d(16, 32, kernel_size=(3, 3), stride=(1, 1), padding=(1, 1), bias=False)\n",
       "      (batch_norm_2): BatchNorm2d(32, eps=1e-05, momentum=0.1, affine=True, track_running_stats=True)\n",
       "      (leaky_2): LeakyReLU(negative_slope=0.1, inplace=True)\n",
       "    )\n",
       "    (3): Sequential(\n",
       "      (maxpool_3): MaxPool2d(kernel_size=2, stride=2, padding=0, dilation=1, ceil_mode=False)\n",
       "    )\n",
       "    (4): Sequential(\n",
       "      (conv_4): Conv2d(32, 64, kernel_size=(3, 3), stride=(1, 1), padding=(1, 1), bias=False)\n",
       "      (batch_norm_4): BatchNorm2d(64, eps=1e-05, momentum=0.1, affine=True, track_running_stats=True)\n",
       "      (leaky_4): LeakyReLU(negative_slope=0.1, inplace=True)\n",
       "    )\n",
       "    (5): Sequential(\n",
       "      (maxpool_5): MaxPool2d(kernel_size=2, stride=2, padding=0, dilation=1, ceil_mode=False)\n",
       "    )\n",
       "    (6): Sequential(\n",
       "      (conv_6): Conv2d(64, 128, kernel_size=(3, 3), stride=(1, 1), padding=(1, 1), bias=False)\n",
       "      (batch_norm_6): BatchNorm2d(128, eps=1e-05, momentum=0.1, affine=True, track_running_stats=True)\n",
       "      (leaky_6): LeakyReLU(negative_slope=0.1, inplace=True)\n",
       "    )\n",
       "    (7): Sequential(\n",
       "      (maxpool_7): MaxPool2d(kernel_size=2, stride=2, padding=0, dilation=1, ceil_mode=False)\n",
       "    )\n",
       "    (8): Sequential(\n",
       "      (conv_8): Conv2d(128, 256, kernel_size=(3, 3), stride=(1, 1), padding=(1, 1), bias=False)\n",
       "      (batch_norm_8): BatchNorm2d(256, eps=1e-05, momentum=0.1, affine=True, track_running_stats=True)\n",
       "      (leaky_8): LeakyReLU(negative_slope=0.1, inplace=True)\n",
       "    )\n",
       "    (9): Sequential(\n",
       "      (maxpool_9): MaxPool2d(kernel_size=2, stride=2, padding=0, dilation=1, ceil_mode=False)\n",
       "    )\n",
       "    (10): Sequential(\n",
       "      (conv_10): Conv2d(256, 512, kernel_size=(3, 3), stride=(1, 1), padding=(1, 1), bias=False)\n",
       "      (batch_norm_10): BatchNorm2d(512, eps=1e-05, momentum=0.1, affine=True, track_running_stats=True)\n",
       "      (leaky_10): LeakyReLU(negative_slope=0.1, inplace=True)\n",
       "    )\n",
       "    (11): Sequential(\n",
       "      (_debug_padding_11): ZeroPad2d(padding=(0, 1, 0, 1), value=0.0)\n",
       "      (maxpool_11): MaxPool2d(kernel_size=2, stride=1, padding=0, dilation=1, ceil_mode=False)\n",
       "    )\n",
       "    (12): Sequential(\n",
       "      (conv_12): Conv2d(512, 1024, kernel_size=(3, 3), stride=(1, 1), padding=(1, 1), bias=False)\n",
       "      (batch_norm_12): BatchNorm2d(1024, eps=1e-05, momentum=0.1, affine=True, track_running_stats=True)\n",
       "      (leaky_12): LeakyReLU(negative_slope=0.1, inplace=True)\n",
       "    )\n",
       "    (13): Sequential(\n",
       "      (conv_13): Conv2d(1024, 256, kernel_size=(1, 1), stride=(1, 1), bias=False)\n",
       "      (batch_norm_13): BatchNorm2d(256, eps=1e-05, momentum=0.1, affine=True, track_running_stats=True)\n",
       "      (leaky_13): LeakyReLU(negative_slope=0.1, inplace=True)\n",
       "    )\n",
       "    (14): Sequential(\n",
       "      (conv_14): Conv2d(256, 512, kernel_size=(3, 3), stride=(1, 1), padding=(1, 1), bias=False)\n",
       "      (batch_norm_14): BatchNorm2d(512, eps=1e-05, momentum=0.1, affine=True, track_running_stats=True)\n",
       "      (leaky_14): LeakyReLU(negative_slope=0.1, inplace=True)\n",
       "    )\n",
       "    (15): Sequential(\n",
       "      (conv_15): Conv2d(512, 39, kernel_size=(1, 1), stride=(1, 1))\n",
       "    )\n",
       "    (16): Sequential(\n",
       "      (yolo_16): YOLOLayer()\n",
       "    )\n",
       "    (17): Sequential(\n",
       "      (route_17): EmptyLayer()\n",
       "    )\n",
       "    (18): Sequential(\n",
       "      (conv_18): Conv2d(256, 128, kernel_size=(1, 1), stride=(1, 1), bias=False)\n",
       "      (batch_norm_18): BatchNorm2d(128, eps=1e-05, momentum=0.1, affine=True, track_running_stats=True)\n",
       "      (leaky_18): LeakyReLU(negative_slope=0.1, inplace=True)\n",
       "    )\n",
       "    (19): Sequential(\n",
       "      (upsample_19): Upsample()\n",
       "    )\n",
       "    (20): Sequential(\n",
       "      (route_20): EmptyLayer()\n",
       "    )\n",
       "    (21): Sequential(\n",
       "      (conv_21): Conv2d(384, 256, kernel_size=(3, 3), stride=(1, 1), padding=(1, 1), bias=False)\n",
       "      (batch_norm_21): BatchNorm2d(256, eps=1e-05, momentum=0.1, affine=True, track_running_stats=True)\n",
       "      (leaky_21): LeakyReLU(negative_slope=0.1, inplace=True)\n",
       "    )\n",
       "    (22): Sequential(\n",
       "      (conv_22): Conv2d(256, 39, kernel_size=(1, 1), stride=(1, 1))\n",
       "    )\n",
       "    (23): Sequential(\n",
       "      (yolo_23): YOLOLayer()\n",
       "    )\n",
       "  )\n",
       ")"
      ]
     },
     "execution_count": 39,
     "metadata": {},
     "output_type": "execute_result"
    }
   ],
   "source": [
    "WEIGHTS_PATH = '/local1/emazuh/elk/yolo/yolov3/weights/acamp4k8_tiny'\n",
    "test_path = '/local1/emazuh/elk/yolo/yolov3/data/animals/output/test_inv.txt'\n",
    "net_cfg = YOLOV3_HOME + '/cfg/elk-vall-tiny-yolov3.cfg'\n",
    "weights = WEIGHTS_PATH + '/best_99.pt'\n",
    "\n",
    "img_size = 416\n",
    "batch_size = 1\n",
    "\n",
    "device = torch_utils.select_device()\n",
    "model = Darknet(net_cfg, img_size).to(device)\n",
    "model.load_state_dict(torch.load(weights, map_location=device)['model'])\n",
    "\n",
    "model.eval()"
   ]
  },
  {
   "cell_type": "code",
   "execution_count": 60,
   "metadata": {},
   "outputs": [],
   "source": [
    "from yolov3_utils.datasets import LoadImagesAndLabels"
   ]
  },
  {
   "cell_type": "code",
   "execution_count": 63,
   "metadata": {
    "scrolled": true
   },
   "outputs": [
    {
     "name": "stdout",
     "output_type": "stream",
     "text": [
      "Reading annotations from /local1/emazuh/elk/yolo/yolov3/data/animals/output/test_inv.txt\n",
      "Sorting image files...\n",
      "Found 99 sequences with 120 annotations\n"
     ]
    }
   ],
   "source": [
    "dataset = LoadImagesAndLabels(test_path, img_size, batch_size, rect=False, sort_files=True, elk_vs_all=True)"
   ]
  },
  {
   "cell_type": "code",
   "execution_count": 64,
   "metadata": {},
   "outputs": [
    {
     "name": "stdout",
     "output_type": "stream",
     "text": [
      "labels_out tensor([[0.00000, 0.00000, 0.61953, 0.50000, 0.63281, 0.33125]])\n"
     ]
    }
   ],
   "source": [
    "i1 = dataset[20]"
   ]
  },
  {
   "cell_type": "code",
   "execution_count": null,
   "metadata": {},
   "outputs": [],
   "source": [
    "CUDA_VISIBLE_DEVICES=1 python3 yolov3_train.py --data_cfg=cfg/acamp4k8.txt --net_cfg=cfg/elk-vall-tiny-yolov3.cfg --batch_size=24 --pretrained_weights=/local1/emazuh/elk/yolo/yolov3/weights/ --weights=/local1/emazuh/elk/yolo/yolov3/weights/acamp4k8_tiny_vall --epochs=1 --elk-vall"
   ]
  },
  {
   "cell_type": "code",
   "execution_count": null,
   "metadata": {},
   "outputs": [],
   "source": [
    "/local1/emazuh/elk/yolo/yolov3/data/animals/output/acamp4k8_val_inv.txt\n",
    "/local1/emazuh/elk/yolo/yolov3/data/animals/output/acamp4k8_train.txt"
   ]
  }
 ],
 "metadata": {
  "kernelspec": {
   "display_name": "Python 3",
   "language": "python",
   "name": "python3"
  },
  "language_info": {
   "codemirror_mode": {
    "name": "ipython",
    "version": 3
   },
   "file_extension": ".py",
   "mimetype": "text/x-python",
   "name": "python",
   "nbconvert_exporter": "python",
   "pygments_lexer": "ipython3",
   "version": "3.8.5"
  }
 },
 "nbformat": 4,
 "nbformat_minor": 4
}
